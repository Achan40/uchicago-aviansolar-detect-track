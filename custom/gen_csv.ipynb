{
 "cells": [
  {
   "cell_type": "code",
   "execution_count": 34,
   "metadata": {},
   "outputs": [],
   "source": [
    "import pandas as pd\n",
    "import re\n",
    "import os"
   ]
  },
  {
   "cell_type": "code",
   "execution_count": 35,
   "metadata": {},
   "outputs": [],
   "source": [
    "def get_folders_in_directory(directory):\n",
    "    folders = [f for f in os.listdir(directory) if os.path.isdir(os.path.join(directory, f))]\n",
    "    return folders"
   ]
  },
  {
   "cell_type": "code",
   "execution_count": 36,
   "metadata": {},
   "outputs": [],
   "source": [
    "def list_files_in_directory(directory):\n",
    "    files = [f for f in os.listdir(directory) if os.path.isfile(os.path.join(directory, f))]\n",
    "    return files"
   ]
  },
  {
   "cell_type": "code",
   "execution_count": 37,
   "metadata": {},
   "outputs": [],
   "source": [
    "def extract_info_from_name(img_file_name):\n",
    "    # Extract numeric values using regular expression, last two represent width and height\n",
    "    numeric_values = [int(match) for match in re.findall(r'\\d+', img_file_name)]\n",
    "    return numeric_values"
   ]
  },
  {
   "cell_type": "code",
   "execution_count": 38,
   "metadata": {},
   "outputs": [],
   "source": [
    "video_name = \"video-00030-2019_06_26_13_41_08\"\n",
    "root = \"C:/Users/Aaron/Desktop/uchicago-aviansolar-detect-track/data/\"\n",
    "root_sub = root+video_name + '/' + video_name + '/'"
   ]
  },
  {
   "cell_type": "code",
   "execution_count": 39,
   "metadata": {},
   "outputs": [],
   "source": [
    "df = pd.DataFrame(columns=['day_dir',\n",
    "                           'camera_dir',\n",
    "                           'video_dir',\n",
    "                           'track_dir',\n",
    "                           'directory',\n",
    "                           'image_file',\n",
    "                           'count',\n",
    "                           'frame',\n",
    "                           'x',\n",
    "                           'y',\n",
    "                           'speed',\n",
    "                           'area',\n",
    "                           'id',\n",
    "                           'bird',\n",
    "                           'cable',\n",
    "                           'panel',\n",
    "                           'plant',\n",
    "                           'car',\n",
    "                           'human',\n",
    "                           'other_animal',\n",
    "                           'insect',\n",
    "                           'aircraft',\n",
    "                           'other',\n",
    "                           'unknown',\n",
    "                           'shadow_reflection',\n",
    "                           'fly_over_above',\n",
    "                           'fly_over_reflection',\n",
    "                           'fly_through',\n",
    "                           'perch_on_panel',\n",
    "                           'land_on_ground',\n",
    "                           'perch_in_background',\n",
    "                           'collision',\n",
    "                           'image_count',\n",
    "                           'obj_cat',\n",
    "                           'obj_cat_binary',\n",
    "                           'activity_cat',\n",
    "                           'obj_id',\n",
    "                           'ttv_split',\n",
    "                           'ttv_split_act'])"
   ]
  },
  {
   "cell_type": "code",
   "execution_count": 40,
   "metadata": {},
   "outputs": [
    {
     "name": "stdout",
     "output_type": "stream",
     "text": [
      "[2, 2020, 4, 26, 11, 57, 51, 2, 1, 2829, 420, 48, 9366, 1152, 101, 2786, 393, 86, 54]\n",
      "1\n",
      "2829\n",
      "420\n",
      "2786\n",
      "393\n"
     ]
    }
   ],
   "source": [
    "# v2, frame, x, y\n",
    "tmp = extract_info_from_name('video-00002-2020_04_26_11_57_51_v2_1_2829_420_48.09366_1152_101_2786_393_86_54.png')\n",
    "print(tmp)\n",
    "print(tmp[8]) # frame num\n",
    "print(tmp[9]) # x\n",
    "print(tmp[10]) # y\n",
    "print(tmp[15]) # ux\n",
    "print(tmp[16]) # uy"
   ]
  },
  {
   "cell_type": "markdown",
   "metadata": {},
   "source": [
    "# Generate CSV"
   ]
  },
  {
   "cell_type": "code",
   "execution_count": 41,
   "metadata": {},
   "outputs": [],
   "source": [
    "# get list of all images\n",
    "tracks = get_folders_in_directory(root_sub) # get all tracks\n",
    "for track in tracks:\n",
    "    imgs = list_files_in_directory(root_sub+track) # get all images in a track\n",
    "    frames = [extract_info_from_name(item)[8] for item in imgs]\n",
    "    x_coord = [extract_info_from_name(item)[9] for item in imgs]\n",
    "    y_coord = [extract_info_from_name(item)[10] for item in imgs]\n",
    "    speed = [extract_info_from_name(item)[11] for item in imgs]\n",
    "    area = [extract_info_from_name(item)[12] for item in imgs]\n",
    "    track_id = [extract_info_from_name(item)[13] for item in imgs]\n",
    "    tmp = pd.DataFrame({'day_dir':None,\n",
    "                        'camera_dir':None,\n",
    "                        'video_dir':video_name,\n",
    "                        'track_dir':track,\n",
    "                        'directory':'/'+video_name+'/'+track,\n",
    "                        'image_file':imgs,\n",
    "                        'count':1,\n",
    "                        'frame':frames,\n",
    "                        'x':x_coord,\n",
    "                        'y':y_coord,\n",
    "                        'speed':speed,\n",
    "                        'area':area,\n",
    "                        'id':track_id,\n",
    "                        'bird':None,\n",
    "                        'cable':None,\n",
    "                        'panel':None,\n",
    "                        'plant':None,\n",
    "                        'car':None,\n",
    "                        'human':None,\n",
    "                        'other_animal':None,\n",
    "                        'insect':None,\n",
    "                        'aircraft':None,\n",
    "                        'other':None,\n",
    "                        'unknown':None,\n",
    "                        'shadow_reflection':None,\n",
    "                        'fly_over_above':None,\n",
    "                        'fly_over_reflection':None,\n",
    "                        'fly_through':None,\n",
    "                        'perch_on_panel':None,\n",
    "                        'land_on_ground':None,\n",
    "                        'perch_in_background':None,\n",
    "                        'collision':None,\n",
    "                        'image_count':None,\n",
    "                        'obj_cat':None,\n",
    "                        'obj_cat_binary':None,\n",
    "                        'activity_cat':None,\n",
    "                        'obj_id':None,\n",
    "                        'ttv_split':None,\n",
    "                        'ttv_split_act':None\n",
    "                    })\n",
    "    df = pd.concat([df,tmp], ignore_index=True)\n",
    "\n",
    "df\n",
    "df.to_csv(root+video_name+'/'+video_name+'.csv', index=False)"
   ]
  }
 ],
 "metadata": {
  "kernelspec": {
   "display_name": "capstone",
   "language": "python",
   "name": "python3"
  },
  "language_info": {
   "codemirror_mode": {
    "name": "ipython",
    "version": 3
   },
   "file_extension": ".py",
   "mimetype": "text/x-python",
   "name": "python",
   "nbconvert_exporter": "python",
   "pygments_lexer": "ipython3",
   "version": "3.10.13"
  }
 },
 "nbformat": 4,
 "nbformat_minor": 2
}
