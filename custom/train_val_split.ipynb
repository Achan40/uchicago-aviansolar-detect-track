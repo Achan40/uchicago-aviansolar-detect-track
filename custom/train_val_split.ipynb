{
 "cells": [
  {
   "cell_type": "code",
   "execution_count": 41,
   "metadata": {},
   "outputs": [],
   "source": [
    "# Run this code after the full set of images and labels are generated to split into train and validation sets\n",
    "import os\n",
    "from sklearn.model_selection import train_test_split\n",
    "import shutil"
   ]
  },
  {
   "cell_type": "code",
   "execution_count": 42,
   "metadata": {},
   "outputs": [],
   "source": [
    "def get_files_no_ext(directory):\n",
    "    '''\n",
    "    Get list of files in a directory, ignore extentions.\n",
    "    Returns a list.\n",
    "    '''\n",
    "    try:\n",
    "        # Initialize an empty set to store unique file names without extension\n",
    "        unique_files_without_extension = set()\n",
    "\n",
    "        # Recursively walk through the directory and its subdirectories\n",
    "        for root, _, files in os.walk(directory):\n",
    "            for file in files:\n",
    "                # Remove the file extension and add to the set\n",
    "                unique_files_without_extension.add(os.path.splitext(file)[0])\n",
    "\n",
    "        return list(unique_files_without_extension)\n",
    "\n",
    "    except FileNotFoundError:\n",
    "        print(f\"Directory not found: {directory}\")\n",
    "        return []"
   ]
  },
  {
   "cell_type": "code",
   "execution_count": 43,
   "metadata": {},
   "outputs": [],
   "source": [
    "def train_val_split_list(data_list, test_size=0.2, random_state=None):\n",
    "    \"\"\"\n",
    "    Perform a train-test split on a given list of data.\n",
    "\n",
    "    Parameters:\n",
    "    - data_list (list): The list of data to be split.\n",
    "    - test_size (float or int, optional): The proportion or absolute number of test samples.\n",
    "      Defaults to 0.2 (20%).\n",
    "    - random_state (int or None, optional): Seed for random number generation to ensure reproducibility.\n",
    "      Defaults to None.\n",
    "\n",
    "    Returns:\n",
    "    - train_data (list): The training set.\n",
    "    - test_data (list): The test set.\n",
    "    \"\"\"\n",
    "    try:\n",
    "        train_data, val_data = train_test_split(data_list, test_size=test_size, random_state=random_state)\n",
    "        return train_data, val_data\n",
    "\n",
    "    except ValueError as e:\n",
    "        print(f\"Error in train-test split: {e}\")\n",
    "        return None, None"
   ]
  },
  {
   "cell_type": "code",
   "execution_count": 44,
   "metadata": {},
   "outputs": [],
   "source": [
    "def copy_specific_files(source_directory, destination_directory, files_to_copy, ext):\n",
    "    count = 0 \n",
    "    try:\n",
    "        # Create the destination directory if it doesn't exist\n",
    "        if not os.path.exists(destination_directory):\n",
    "            os.makedirs(destination_directory)\n",
    "\n",
    "        # Iterate through the list of specific files\n",
    "        for file_to_copy in files_to_copy:\n",
    "            # add file extension\n",
    "            file_name_with_ext = file_to_copy + ext\n",
    "\n",
    "            # Build the source and destination paths\n",
    "            source_path = os.path.join(source_directory, file_name_with_ext)\n",
    "            destination_path = os.path.join(destination_directory, file_name_with_ext)\n",
    "\n",
    "            # Copy the file to the destination directory\n",
    "            shutil.copy2(source_path, destination_path)\n",
    "            count += 1\n",
    "\n",
    "        print(f\"{count} {ext} files copied to {destination_directory} successfully.\")\n",
    "\n",
    "    except FileNotFoundError as e:\n",
    "        print(f\"Error: {e}\")\n",
    "    except Exception as e:\n",
    "        print(f\"An error occurred: {e}\")\n"
   ]
  },
  {
   "cell_type": "code",
   "execution_count": 45,
   "metadata": {},
   "outputs": [],
   "source": [
    "def structure_dirs(images_dir, labels_dir, files_to_copy, out_dir):\n",
    "    imgs_out = out_dir + \"/images\"\n",
    "    labels_out = out_dir + \"/labels\"\n",
    "\n",
    "    copy_specific_files(images_dir, imgs_out, files_to_copy, '.png')\n",
    "    copy_specific_files(labels_dir, labels_out, files_to_copy, '.txt')"
   ]
  },
  {
   "cell_type": "code",
   "execution_count": 46,
   "metadata": {},
   "outputs": [
    {
     "name": "stdout",
     "output_type": "stream",
     "text": [
      "Train images: 4061 \n",
      "Validation images: 1016\n",
      "4061 .png files copied to C:/Users/Aaron/Desktop/uchicago-aviansolar-detect-track/custom/final_v2/train/images successfully.\n",
      "4061 .txt files copied to C:/Users/Aaron/Desktop/uchicago-aviansolar-detect-track/custom/final_v2/train/labels successfully.\n",
      "1016 .png files copied to C:/Users/Aaron/Desktop/uchicago-aviansolar-detect-track/custom/final_v2/val/images successfully.\n",
      "1016 .txt files copied to C:/Users/Aaron/Desktop/uchicago-aviansolar-detect-track/custom/final_v2/val/labels successfully.\n"
     ]
    }
   ],
   "source": [
    "root_dir = \"C:/Users/Aaron/Desktop/uchicago-aviansolar-detect-track/custom/full_set_v2/\"\n",
    "images_dir = \"C:/Users/Aaron/Desktop/uchicago-aviansolar-detect-track/custom/full_set_v2/images\"\n",
    "labels_dir = \"C:/Users/Aaron/Desktop/uchicago-aviansolar-detect-track/custom/full_set_v2/labels\"\n",
    "\n",
    "train_out = \"C:/Users/Aaron/Desktop/uchicago-aviansolar-detect-track/custom/final_v2/train\"\n",
    "val_out = \"C:/Users/Aaron/Desktop/uchicago-aviansolar-detect-track/custom/final_v2/val\"\n",
    "\n",
    "uni_imgs = get_files_no_ext(root_dir)\n",
    "train, val = train_val_split_list(uni_imgs)\n",
    "\n",
    "print(f'Train images: {len(train)} \\nValidation images: {len(val)}')\n",
    "\n",
    "structure_dirs(images_dir,labels_dir, train, train_out)\n",
    "structure_dirs(images_dir,labels_dir, val, val_out)\n"
   ]
  }
 ],
 "metadata": {
  "kernelspec": {
   "display_name": "capstone",
   "language": "python",
   "name": "python3"
  },
  "language_info": {
   "codemirror_mode": {
    "name": "ipython",
    "version": 3
   },
   "file_extension": ".py",
   "mimetype": "text/x-python",
   "name": "python",
   "nbconvert_exporter": "python",
   "pygments_lexer": "ipython3",
   "version": "3.10.13"
  }
 },
 "nbformat": 4,
 "nbformat_minor": 2
}
