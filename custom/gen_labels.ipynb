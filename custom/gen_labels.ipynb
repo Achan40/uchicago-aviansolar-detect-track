{
 "cells": [
  {
   "cell_type": "code",
   "execution_count": 46,
   "metadata": {},
   "outputs": [],
   "source": [
    "import os\n",
    "import shutil\n",
    "import pandas as pd\n",
    "import re"
   ]
  },
  {
   "cell_type": "code",
   "execution_count": 47,
   "metadata": {},
   "outputs": [],
   "source": [
    "def get_box(image_file):\n",
    "    '''\n",
    "    Used to get width and height of object given the track image filename\n",
    "    image_file: name of image file\n",
    "    '''\n",
    "    # Extract numeric values using regular expression, last two represent width and height\n",
    "    numeric_values = [int(match) for match in re.findall(r'\\d+', image_file)]\n",
    "    rect_w = numeric_values[-1]\n",
    "    rect_h = numeric_values[-2]\n",
    "    \n",
    "    return rect_w, rect_h"
   ]
  },
  {
   "cell_type": "code",
   "execution_count": 48,
   "metadata": {},
   "outputs": [],
   "source": [
    "def get_category(row):\n",
    "    '''\n",
    "    Used to get the category label of a track image\n",
    "    '''\n",
    "    cats = ['bird','cable','panel','plant','car','human','other_animal','insect','aircraft','other','unknown']\n",
    "    for i in range(len(cats)):\n",
    "        if row[cats[i]] == 1:\n",
    "            category = i\n",
    "            return category"
   ]
  },
  {
   "cell_type": "code",
   "execution_count": 49,
   "metadata": {},
   "outputs": [],
   "source": [
    "def gen_labels(data_file, output_dir, dim=400):\n",
    "    '''\n",
    "    Used to generate yolo formatted labels \n",
    "    data_file: Path to structured datafile. Tracks should be labeled beforehand.\n",
    "    output_dir: Output directory of labels.\n",
    "    dim: Dimension of images. The way track images are generated, should be square with the obj being tracked in the center.\n",
    "    '''\n",
    "    # Ensure the destination directory exists\n",
    "    if not os.path.exists(output_dir):\n",
    "        os.makedirs(output_dir)\n",
    "\n",
    "    df = pd.read_csv(data_file)\n",
    "\n",
    "    # Find non-unique values based on two frame and video name\n",
    "    # NOTE 2024-01-23: Frame numbering has issue at the moment, but can still be used to tell if multiple object in a frame\n",
    "    # TODO: FIND better way to create labels for potential overlap\n",
    "    non_unique_rows = df[df.duplicated(['video_dir', 'frame'], keep=False)]\n",
    "    # Drop non-unique rows from the original DataFrame\n",
    "    df = df.drop_duplicates(['video_dir', 'frame'], keep=False)\n",
    "\n",
    "    # iterate through each row of remaining dataframe\n",
    "    for index, row in df.iterrows():\n",
    "        label_name = row['image_file'].replace('.png','.txt')\n",
    "\n",
    "        output_file = output_dir + '/' + label_name\n",
    "\n",
    "        x = dim // 2\n",
    "        y = dim // 2\n",
    "        rect_w, rect_h = get_box(row['image_file'])\n",
    "        category = get_category(row)\n",
    "\n",
    "        # Write the list to the file, each element as a new line\n",
    "        with open(output_file, \"w\") as file:\n",
    "            print_buffer = []\n",
    "            # normalize height for yolo format\n",
    "            x /= dim\n",
    "            y /= dim \n",
    "            rect_w /= dim\n",
    "            rect_h /= dim\n",
    "            print_buffer.append(\"{} {:.3f} {:.3f} {:.3f} {:.3f}\".format(category, x, y, rect_w, rect_h)) # class, centerx, centery, width, height\n",
    "            \n",
    "            file.write(\"\\n\".join(print_buffer))\n",
    "\n",
    "    print(f'{len(df)} labels generated.')\n",
    "    print(f'{len(non_unique_rows)} labels skipped.')\n",
    "\n",
    "    # return list of image files so that we can copy the correct ones over\n",
    "    return list(df['image_file'])"
   ]
  },
  {
   "cell_type": "code",
   "execution_count": 50,
   "metadata": {},
   "outputs": [],
   "source": [
    "def copy_png(target_dir, output_dir, imgs):\n",
    "    '''\n",
    "    Copies png files to a target directory. Only copies files if in specified list.\n",
    "    target_dir: root directory of tracks/track images (doesn't matter too much since only copies png)\n",
    "    output_dir: output directory of images. Single dir for all images.\n",
    "    imgs: list of images to copy over\n",
    "    '''\n",
    "    # Ensure the destination directory exists\n",
    "    if not os.path.exists(output_dir):\n",
    "        os.makedirs(output_dir)\n",
    "\n",
    "    count = 0\n",
    "\n",
    "    # Recursively iterate through all files in the source directory and its subdirectories\n",
    "    for root, dirs, files in os.walk(target_dir):\n",
    "        for file in files:\n",
    "            if file.endswith(\".png\") and file in imgs:\n",
    "                source_path = os.path.join(root, file)\n",
    "                destination_path = os.path.join(output_dir, file)\n",
    "                shutil.copy2(source_path, destination_path)\n",
    "                \n",
    "                count += 1\n",
    "    print(f'{count} images copied over.')"
   ]
  },
  {
   "cell_type": "code",
   "execution_count": 51,
   "metadata": {},
   "outputs": [
    {
     "name": "stdout",
     "output_type": "stream",
     "text": [
      "1512 labels generated.\n",
      "516 labels skipped.\n",
      "1512 images copied over.\n"
     ]
    }
   ],
   "source": [
    "data_file = \"C:/Users/Aaron/Desktop/uchicago-aviansolar-detect-track/data/20240114_data_mod.csv\"\n",
    "output_dir_labels = \"C:/Users/Aaron/Desktop/uchicago-aviansolar-detect-track/custom/labels\"\n",
    "\n",
    "target_dir = \"C:/Users/Aaron/Desktop/uchicago-aviansolar-detect-track/data/\"\n",
    "output_dir_imgs = \"C:/Users/Aaron/Desktop/uchicago-aviansolar-detect-track/custom/images\"\n",
    "\n",
    "labels = gen_labels(data_file, output_dir_labels)\n",
    "copy_png(target_dir, output_dir_imgs, labels)\n"
   ]
  }
 ],
 "metadata": {
  "kernelspec": {
   "display_name": "capstone",
   "language": "python",
   "name": "python3"
  },
  "language_info": {
   "codemirror_mode": {
    "name": "ipython",
    "version": 3
   },
   "file_extension": ".py",
   "mimetype": "text/x-python",
   "name": "python",
   "nbconvert_exporter": "python",
   "pygments_lexer": "ipython3",
   "version": "3.10.13"
  }
 },
 "nbformat": 4,
 "nbformat_minor": 2
}
