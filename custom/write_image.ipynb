{
 "cells": [
  {
   "cell_type": "code",
   "execution_count": 36,
   "metadata": {},
   "outputs": [],
   "source": [
    "import cv2\n",
    "import re"
   ]
  },
  {
   "cell_type": "code",
   "execution_count": 37,
   "metadata": {},
   "outputs": [],
   "source": [
    "def extract_info_from_name(img_file_name):\n",
    "    # Extract numeric values using regular expression, last two represent width and height\n",
    "    numeric_values = [int(match) for match in re.findall(r'\\d+', img_file_name)]\n",
    "    return numeric_values"
   ]
  },
  {
   "cell_type": "code",
   "execution_count": 38,
   "metadata": {},
   "outputs": [],
   "source": [
    "def draw_rect(vid_path: str,\n",
    "              image_name: str,\n",
    "              out_filename: str):\n",
    "    '''\n",
    "    Function for generating an output on a frame in cv2\n",
    "    '''\n",
    "    # read the video\n",
    "    cap = cv2.VideoCapture(vid_path) \n",
    "    \n",
    "    # draw rectangle given image\n",
    "    vals = extract_info_from_name(image_name)\n",
    "    frm = vals[8]\n",
    "\n",
    "    # Set the frame position (0-based index) of the frame you want to read\n",
    "    # Set the frame position using the set method\n",
    "    cap.set(cv2.CAP_PROP_POS_FRAMES, frm)\n",
    "\n",
    "    # read the first frame\n",
    "    ret, frame = cap.read()\n",
    "\n",
    "    # Define the coordinates and color for the rectangle\n",
    "    x, y, width, height = vals[9], vals[10], vals[17], vals[18]  # Rectangle position and size\n",
    "\n",
    "    top_left = (int(x - width / 2), int(y - height / 2))\n",
    "    bottom_right = (int(x + width / 2), int(y + height / 2))\n",
    "\n",
    "\n",
    "    color = (0, 255, 0)  # Green color in BGR format\n",
    "    thickness = 2\n",
    "\n",
    "    # add frame num to end of file name\n",
    "    out_filename = out_filename + '_' + str(frm) + '.jpg'\n",
    "\n",
    "    # Draw a rectangle on the frame, use converted coord\n",
    "    cv2.rectangle(frame, top_left, bottom_right, color, thickness)\n",
    "\n",
    "    # Draw the circle on the image center\n",
    "    #cv2.circle(frame, (x,y), 15, color, thickness)\n",
    "\n",
    "    # Save the modified frame as an image\n",
    "    cv2.imwrite(out_filename, frame)\n",
    "\n",
    "    # Release the video capture object\n",
    "    cap.release()\n",
    "\n",
    "    # Close any OpenCV windows\n",
    "    cv2.destroyAllWindows()"
   ]
  },
  {
   "cell_type": "code",
   "execution_count": 34,
   "metadata": {},
   "outputs": [],
   "source": [
    "vid_path = '/Users/Aaron/Desktop/uchicago-aviansolar-detect-track/data/video-00002-2020_04_26_11_57_51.mkv'\n",
    "image_name = 'video-00002-2020_04_26_11_57_51_v2_2404_569_782_0.00000_363_101_550_757_38_51'\n",
    "draw_rect(vid_path, image_name, 'output')"
   ]
  },
  {
   "cell_type": "code",
   "execution_count": 39,
   "metadata": {},
   "outputs": [],
   "source": [
    "import os\n",
    "\n",
    "def draw_rect_track(vid_path, track_path, output_dir):\n",
    "\n",
    "    # Get the current working directory\n",
    "    current_directory = os.getcwd()\n",
    "\n",
    "    # check if output path exists\n",
    "    if not os.path.exists(output_dir):\n",
    "        try:\n",
    "            os.makedirs(output_dir)\n",
    "            print(f\"Directory created: {output_dir}\")\n",
    "        except OSError as e:\n",
    "            print(f\"Error creating directory {output_dir}: {e}\")\n",
    "    else:\n",
    "        print(f\"Directory already exists: {output_dir}\")\n",
    "\n",
    "    # Change the working directory to the specified path\n",
    "    os.chdir(output_dir)\n",
    "\n",
    "    # Get all files in the directory\n",
    "    files = [f for f in os.listdir(track_path) if os.path.isfile(os.path.join(track_path, f))]\n",
    "\n",
    "    for i in files:\n",
    "        draw_rect(vid_path, i, 'output')\n",
    "\n",
    "    # reset working directory\n",
    "    os.chdir(current_directory)\n",
    "\n",
    "    print(files)"
   ]
  },
  {
   "cell_type": "code",
   "execution_count": 61,
   "metadata": {},
   "outputs": [
    {
     "name": "stdout",
     "output_type": "stream",
     "text": [
      "Directory created: /Users/Aaron/Desktop/uchicago-aviansolar-detect-track/custom/track/\n",
      "['video-00002-2020_04_26_11_57_51_v2_2414_400_778_17.33760_238_209_381_760_39_37.png', 'video-00002-2020_04_26_11_57_51_v2_2415_381_780_19.10497_169_209_362_764_39_33.png', 'video-00002-2020_04_26_11_57_51_v2_2416_365_782_16.12452_255_209_345_763_40_39.png', 'video-00002-2020_04_26_11_57_51_v2_2417_348_779_17.26268_160_209_330_762_36_34.png', 'video-00002-2020_04_26_11_57_51_v2_2418_330_778_18.02776_206_209_311_760_38_36.png', 'video-00002-2020_04_26_11_57_51_v2_2419_311_778_19.00000_160_209_293_761_37_34.png', 'video-00002-2020_04_26_11_57_51_v2_2420_293_780_18.11077_269_209_273_761_40_38.png', 'video-00002-2020_04_26_11_57_51_v2_2421_275_777_18.24829_159_209_257_760_36_34.png', 'video-00002-2020_04_26_11_57_51_v2_2422_257_774_18.24829_227_209_237_757_40_35.png', 'video-00002-2020_04_26_11_57_51_v2_2423_238_773_18.13978_227_209_237_757_40_35.png', 'video-00002-2020_04_26_11_57_51_v2_2424_217_778_22.32980_288_209_197_759_41_38.png']\n"
     ]
    }
   ],
   "source": [
    "vid_path = '/Users/Aaron/Desktop/uchicago-aviansolar-detect-track/data/video-00002-2020_04_26_11_57_51.mkv'\n",
    "track_path ='/Users/Aaron/Desktop/uchicago-aviansolar-detect-track/data/video-00002-2020_04_26_11_57_51/video-00002-2020_04_26_11_57_51/100'\n",
    "output_dir = '/Users/Aaron/Desktop/uchicago-aviansolar-detect-track/custom/track/'\n",
    "draw_rect_track(vid_path, track_path, output_dir) "
   ]
  }
 ],
 "metadata": {
  "kernelspec": {
   "display_name": "capstone",
   "language": "python",
   "name": "python3"
  },
  "language_info": {
   "codemirror_mode": {
    "name": "ipython",
    "version": 3
   },
   "file_extension": ".py",
   "mimetype": "text/x-python",
   "name": "python",
   "nbconvert_exporter": "python",
   "pygments_lexer": "ipython3",
   "version": "3.10.13"
  }
 },
 "nbformat": 4,
 "nbformat_minor": 2
}
