{
 "cells": [
  {
   "cell_type": "code",
   "execution_count": 1,
   "metadata": {},
   "outputs": [],
   "source": [
    "import cv2\n",
    "import re"
   ]
  },
  {
   "cell_type": "code",
   "execution_count": 2,
   "metadata": {},
   "outputs": [],
   "source": [
    "def extract_info_from_name(img_file_name):\n",
    "    # Extract numeric values using regular expression, last two represent width and height\n",
    "    numeric_values = [int(match) for match in re.findall(r'\\d+', img_file_name)]\n",
    "    return numeric_values"
   ]
  },
  {
   "cell_type": "code",
   "execution_count": 3,
   "metadata": {},
   "outputs": [],
   "source": [
    "def draw_rect(vid_path: str,\n",
    "              image_name: str,\n",
    "              out_filename: str):\n",
    "    '''\n",
    "    Function for generating an output on a frame in cv2\n",
    "    '''\n",
    "    # read the video\n",
    "    cap = cv2.VideoCapture(vid_path) \n",
    "    \n",
    "    # draw rectangle given image\n",
    "    vals = extract_info_from_name(image_name)\n",
    "    frm = vals[8]\n",
    "\n",
    "    # Set the frame position (0-based index) of the frame you want to read\n",
    "    # Set the frame position using the set method\n",
    "    cap.set(cv2.CAP_PROP_POS_FRAMES, frm)\n",
    "\n",
    "    # read the first frame\n",
    "    ret, frame = cap.read()\n",
    "\n",
    "    # Define the coordinates and color for the rectangle\n",
    "    x, y, width, height = vals[9], vals[10], vals[17], vals[18]  # Rectangle position and size\n",
    "\n",
    "    top_left = (int(x - width / 2), int(y - height / 2))\n",
    "    bottom_right = (int(x + width / 2), int(y + height / 2))\n",
    "\n",
    "\n",
    "    color = (0, 255, 0)  # Green color in BGR format\n",
    "    thickness = 2\n",
    "\n",
    "    # add frame num to end of file name\n",
    "    out_filename = out_filename + '_' + str(frm) + '.jpg'\n",
    "\n",
    "    # Draw a rectangle on the frame, use converted coord\n",
    "    cv2.rectangle(frame, top_left, bottom_right, color, thickness)\n",
    "\n",
    "    # Draw the circle on the image center\n",
    "    #cv2.circle(frame, (x,y), 15, color, thickness)\n",
    "\n",
    "    # Save the modified frame as an image\n",
    "    cv2.imwrite(out_filename, frame)\n",
    "\n",
    "    # Release the video capture object\n",
    "    cap.release()\n",
    "\n",
    "    # Close any OpenCV windows\n",
    "    cv2.destroyAllWindows()"
   ]
  },
  {
   "cell_type": "code",
   "execution_count": 4,
   "metadata": {},
   "outputs": [],
   "source": [
    "#vid_path = '/Users/Aaron/Desktop/uchicago-aviansolar-detect-track/data/video-00002-2020_04_26_11_57_51.mkv'\n",
    "#image_name = 'video-00002-2020_04_26_11_57_51_v2_2404_569_782_0.00000_363_101_550_757_38_51'\n",
    "#draw_rect(vid_path, image_name, 'output')"
   ]
  },
  {
   "cell_type": "code",
   "execution_count": 5,
   "metadata": {},
   "outputs": [],
   "source": [
    "def count_frames(video_path):\n",
    "    # Open the video file\n",
    "    cap = cv2.VideoCapture(video_path)\n",
    "\n",
    "    # Check if the video file is opened successfully\n",
    "    if not cap.isOpened():\n",
    "        print(f\"Error: Unable to open video file '{video_path}'\")\n",
    "        return\n",
    "\n",
    "    # Get the total number of frames in the video\n",
    "    total_frames = int(cap.get(cv2.CAP_PROP_FRAME_COUNT))\n",
    "\n",
    "    # Release the video capture object\n",
    "    cap.release()\n",
    "\n",
    "    return total_frames"
   ]
  },
  {
   "cell_type": "code",
   "execution_count": 6,
   "metadata": {},
   "outputs": [],
   "source": [
    "import os\n",
    "\n",
    "def draw_rect_track(vid_path, tracks_path, output_dir):\n",
    "\n",
    "    # Get the current working directory\n",
    "    current_directory = os.getcwd()\n",
    "\n",
    "    # check if output path exists\n",
    "    if not os.path.exists(output_dir):\n",
    "        try:\n",
    "            os.makedirs(output_dir)\n",
    "            print(f\"Directory created: {output_dir}\")\n",
    "        except OSError as e:\n",
    "            print(f\"Error creating directory {output_dir}: {e}\")\n",
    "    else:\n",
    "        print(f\"Directory already exists: {output_dir}\")\n",
    "\n",
    "    # Get all folders in a directory\n",
    "    folders = [f for f in os.listdir(tracks_path) if os.path.isdir(os.path.join(tracks_path, f))]\n",
    "\n",
    "    for i in folders:\n",
    "        output_track = output_dir + '/' + i\n",
    "\n",
    "        if not os.path.exists(output_track):\n",
    "            try:\n",
    "                os.makedirs(output_track)\n",
    "                print(f\"Directory created: {output_track}\")\n",
    "            except OSError as e:\n",
    "                print(f\"Error creating directory {output_track}: {e}\")\n",
    "        else:\n",
    "            print(f\"Directory already exists: {output_track}\")\n",
    "\n",
    "        # Change the working directory to the specified path\n",
    "        os.chdir(output_track)\n",
    "\n",
    "        # Get all files in the track directory\n",
    "        track_path = tracks_path + '/' + i\n",
    "        files = [f for f in os.listdir(track_path) if os.path.isfile(os.path.join(track_path, f))]\n",
    "\n",
    "        for j in files:\n",
    "            draw_rect(vid_path, j, 'output')\n",
    "\n",
    "    # reset working directory\n",
    "    os.chdir(current_directory)\n",
    "\n",
    "    print(files)"
   ]
  },
  {
   "cell_type": "code",
   "execution_count": 11,
   "metadata": {},
   "outputs": [
    {
     "name": "stdout",
     "output_type": "stream",
     "text": [
      "Directory created: /Users/Aaron/Desktop/uchicago-aviansolar-detect-track/custom/images/video-00030-2019_06_26_13_41_08\n",
      "Directory created: /Users/Aaron/Desktop/uchicago-aviansolar-detect-track/custom/images/video-00030-2019_06_26_13_41_08/121\n",
      "Directory created: /Users/Aaron/Desktop/uchicago-aviansolar-detect-track/custom/images/video-00030-2019_06_26_13_41_08/125\n",
      "Directory created: /Users/Aaron/Desktop/uchicago-aviansolar-detect-track/custom/images/video-00030-2019_06_26_13_41_08/128\n",
      "Directory created: /Users/Aaron/Desktop/uchicago-aviansolar-detect-track/custom/images/video-00030-2019_06_26_13_41_08/137\n",
      "Directory created: /Users/Aaron/Desktop/uchicago-aviansolar-detect-track/custom/images/video-00030-2019_06_26_13_41_08/160\n",
      "Directory created: /Users/Aaron/Desktop/uchicago-aviansolar-detect-track/custom/images/video-00030-2019_06_26_13_41_08/169\n",
      "Directory created: /Users/Aaron/Desktop/uchicago-aviansolar-detect-track/custom/images/video-00030-2019_06_26_13_41_08/190\n",
      "Directory created: /Users/Aaron/Desktop/uchicago-aviansolar-detect-track/custom/images/video-00030-2019_06_26_13_41_08/209\n",
      "Directory created: /Users/Aaron/Desktop/uchicago-aviansolar-detect-track/custom/images/video-00030-2019_06_26_13_41_08/297\n",
      "Directory created: /Users/Aaron/Desktop/uchicago-aviansolar-detect-track/custom/images/video-00030-2019_06_26_13_41_08/301\n",
      "Directory created: /Users/Aaron/Desktop/uchicago-aviansolar-detect-track/custom/images/video-00030-2019_06_26_13_41_08/346\n",
      "Directory created: /Users/Aaron/Desktop/uchicago-aviansolar-detect-track/custom/images/video-00030-2019_06_26_13_41_08/347\n",
      "Directory created: /Users/Aaron/Desktop/uchicago-aviansolar-detect-track/custom/images/video-00030-2019_06_26_13_41_08/348\n",
      "Directory created: /Users/Aaron/Desktop/uchicago-aviansolar-detect-track/custom/images/video-00030-2019_06_26_13_41_08/407\n",
      "Directory created: /Users/Aaron/Desktop/uchicago-aviansolar-detect-track/custom/images/video-00030-2019_06_26_13_41_08/414\n",
      "Directory created: /Users/Aaron/Desktop/uchicago-aviansolar-detect-track/custom/images/video-00030-2019_06_26_13_41_08/458\n",
      "Directory created: /Users/Aaron/Desktop/uchicago-aviansolar-detect-track/custom/images/video-00030-2019_06_26_13_41_08/464\n",
      "Directory created: /Users/Aaron/Desktop/uchicago-aviansolar-detect-track/custom/images/video-00030-2019_06_26_13_41_08/528\n",
      "Directory created: /Users/Aaron/Desktop/uchicago-aviansolar-detect-track/custom/images/video-00030-2019_06_26_13_41_08/540\n",
      "['video-00030-2019_06_26_13_41_08_v2_8945_2489_1449_0.00000_273_540_2468_1430_42_38.png', 'video-00030-2019_06_26_13_41_08_v2_8946_2489_1449_0.00000_273_540_2468_1430_42_38.png', 'video-00030-2019_06_26_13_41_08_v2_8947_2614_1432_126.15070_265_540_2593_1414_43_37.png', 'video-00030-2019_06_26_13_41_08_v2_8948_2674_1419_61.39218_270_540_2652_1401_44_36.png', 'video-00030-2019_06_26_13_41_08_v2_8949_2737_1414_63.19810_285_540_2716_1395_43_38.png', 'video-00030-2019_06_26_13_41_08_v2_8950_2798_1400_62.58594_201_540_2777_1383_42_34.png', 'video-00030-2019_06_26_13_41_08_v2_8951_2857_1384_61.13101_284_540_2836_1366_43_37.png', 'video-00030-2019_06_26_13_41_08_v2_8952_2921_1379_64.19502_292_540_2900_1361_43_37.png', 'video-00030-2019_06_26_13_41_08_v2_8953_2980_1366_60.41523_318_540_2958_1348_45_37.png', 'video-00030-2019_06_26_13_41_08_v2_8954_3040_1360_60.29925_175_540_3020_1343_40_34.png', 'video-00030-2019_06_26_13_41_08_v2_8955_3099_1356_59.13544_272_540_3077_1338_45_36.png', 'video-00030-2019_06_26_13_41_08_v2_8956_3159_1338_62.64184_265_540_3138_1320_42_37.png', 'video-00030-2019_06_26_13_41_08_v2_8957_3222_1334_63.12686_219_540_3202_1316_41_36.png', 'video-00030-2019_06_26_13_41_08_v2_8958_3285_1320_64.53681_151_540_3266_1304_38_33.png', 'video-00030-2019_06_26_13_41_08_v2_8959_3345_1311_61.38761_151_540_3266_1304_38_33.png', 'video-00030-2019_06_26_13_41_08_v2_8960_3407_1300_62.51111_151_540_3266_1304_38_33.png', 'video-00030-2019_06_26_13_41_08_v2_8961_3469_1290_62.51111_151_540_3266_1304_38_33.png', 'video-00030-2019_06_26_13_41_08_v2_8962_3530_1280_62.51111_151_540_3266_1304_38_33.png', 'video-00030-2019_06_26_13_41_08_v2_8963_3592_1270_62.51111_151_540_3266_1304_38_33.png', 'video-00030-2019_06_26_13_41_08_v2_8964_3682_1208_109.17126_325_540_3659_1189_46_38.png', 'video-00030-2019_06_26_13_41_08_v2_8965_3749_1206_67.02984_181_540_3728_1190_42_32.png']\n"
     ]
    }
   ],
   "source": [
    "vid_path = '/Users/Aaron/Desktop/uchicago-aviansolar-detect-track/data/video-00030-2019_06_26_13_41_08.mkv' # path of video\n",
    "tracks_path ='/Users/Aaron/Desktop/uchicago-aviansolar-detect-track/data/video-00030-2019_06_26_13_41_08/video-00030-2019_06_26_13_41_08/' # root path of generated tracks\n",
    "output_dir = '/Users/Aaron/Desktop/uchicago-aviansolar-detect-track/custom/images/video-00030-2019_06_26_13_41_08' # where you want bounding box images to be output\n",
    "draw_rect_track(vid_path, tracks_path, output_dir) "
   ]
  },
  {
   "cell_type": "code",
   "execution_count": 8,
   "metadata": {},
   "outputs": [
    {
     "data": {
      "text/plain": [
       "8970"
      ]
     },
     "execution_count": 8,
     "metadata": {},
     "output_type": "execute_result"
    }
   ],
   "source": [
    "count_frames(video_path=vid_path)"
   ]
  }
 ],
 "metadata": {
  "kernelspec": {
   "display_name": "capstone",
   "language": "python",
   "name": "python3"
  },
  "language_info": {
   "codemirror_mode": {
    "name": "ipython",
    "version": 3
   },
   "file_extension": ".py",
   "mimetype": "text/x-python",
   "name": "python",
   "nbconvert_exporter": "python",
   "pygments_lexer": "ipython3",
   "version": "3.10.13"
  }
 },
 "nbformat": 4,
 "nbformat_minor": 2
}
