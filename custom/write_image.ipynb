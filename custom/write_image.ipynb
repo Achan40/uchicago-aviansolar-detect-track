{
 "cells": [
  {
   "cell_type": "code",
   "execution_count": 1,
   "metadata": {},
   "outputs": [],
   "source": [
    "import cv2\n",
    "import re"
   ]
  },
  {
   "cell_type": "code",
   "execution_count": 2,
   "metadata": {},
   "outputs": [],
   "source": [
    "def extract_info_from_name(img_file_name):\n",
    "    # Extract numeric values using regular expression, last two represent width and height\n",
    "    numeric_values = [int(match) for match in re.findall(r'\\d+', img_file_name)]\n",
    "    return numeric_values"
   ]
  },
  {
   "cell_type": "code",
   "execution_count": 3,
   "metadata": {},
   "outputs": [],
   "source": [
    "def draw_rect(vid_path: str,\n",
    "              image_name: str,\n",
    "              out_filename: str):\n",
    "    '''\n",
    "    Function for generating an output on a frame in cv2\n",
    "    '''\n",
    "    # read the video\n",
    "    cap = cv2.VideoCapture(vid_path) \n",
    "    \n",
    "    # draw rectangle given image\n",
    "    vals = extract_info_from_name(image_name)\n",
    "    frm = vals[8]\n",
    "\n",
    "    # Set the frame position (0-based index) of the frame you want to read\n",
    "    # Set the frame position using the set method\n",
    "    cap.set(cv2.CAP_PROP_POS_FRAMES, frm)\n",
    "\n",
    "    # read the first frame\n",
    "    ret, frame = cap.read()\n",
    "\n",
    "    # Define the coordinates and color for the rectangle\n",
    "    x, y, width, height = vals[9], vals[10], vals[17], vals[18]  # Rectangle position and size\n",
    "\n",
    "    top_left = (int(x - width / 2), int(y - height / 2))\n",
    "    bottom_right = (int(x + width / 2), int(y + height / 2))\n",
    "\n",
    "\n",
    "    color = (0, 255, 0)  # Green color in BGR format\n",
    "    thickness = 2\n",
    "\n",
    "    # add frame num to end of file name\n",
    "    out_filename = out_filename + '_' + str(frm) + '.jpg'\n",
    "\n",
    "    # Draw a rectangle on the frame, use converted coord\n",
    "    cv2.rectangle(frame, top_left, bottom_right, color, thickness)\n",
    "\n",
    "    # Draw the circle on the image center\n",
    "    #cv2.circle(frame, (x,y), 15, color, thickness)\n",
    "\n",
    "    # Save the modified frame as an image\n",
    "    cv2.imwrite(out_filename, frame)\n",
    "\n",
    "    # Release the video capture object\n",
    "    cap.release()\n",
    "\n",
    "    # Close any OpenCV windows\n",
    "    cv2.destroyAllWindows()"
   ]
  },
  {
   "cell_type": "code",
   "execution_count": 4,
   "metadata": {},
   "outputs": [],
   "source": [
    "#vid_path = '/Users/Aaron/Desktop/uchicago-aviansolar-detect-track/data/video-00002-2020_04_26_11_57_51.mkv'\n",
    "#image_name = 'video-00002-2020_04_26_11_57_51_v2_2404_569_782_0.00000_363_101_550_757_38_51'\n",
    "#draw_rect(vid_path, image_name, 'output')"
   ]
  },
  {
   "cell_type": "code",
   "execution_count": 5,
   "metadata": {},
   "outputs": [],
   "source": [
    "def count_frames(video_path):\n",
    "    # Open the video file\n",
    "    cap = cv2.VideoCapture(video_path)\n",
    "\n",
    "    # Check if the video file is opened successfully\n",
    "    if not cap.isOpened():\n",
    "        print(f\"Error: Unable to open video file '{video_path}'\")\n",
    "        return\n",
    "\n",
    "    # Get the total number of frames in the video\n",
    "    total_frames = int(cap.get(cv2.CAP_PROP_FRAME_COUNT))\n",
    "\n",
    "    # Release the video capture object\n",
    "    cap.release()\n",
    "\n",
    "    return total_frames"
   ]
  },
  {
   "cell_type": "code",
   "execution_count": 6,
   "metadata": {},
   "outputs": [],
   "source": [
    "import os\n",
    "\n",
    "def draw_rect_track(vid_path, tracks_path, output_dir):\n",
    "\n",
    "    # Get the current working directory\n",
    "    current_directory = os.getcwd()\n",
    "\n",
    "    # check if output path exists\n",
    "    if not os.path.exists(output_dir):\n",
    "        try:\n",
    "            os.makedirs(output_dir)\n",
    "            print(f\"Directory created: {output_dir}\")\n",
    "        except OSError as e:\n",
    "            print(f\"Error creating directory {output_dir}: {e}\")\n",
    "    else:\n",
    "        print(f\"Directory already exists: {output_dir}\")\n",
    "\n",
    "    # Get all folders in a directory\n",
    "    folders = [f for f in os.listdir(tracks_path) if os.path.isdir(os.path.join(tracks_path, f))]\n",
    "\n",
    "    for i in folders:\n",
    "        output_track = output_dir + '/' + i\n",
    "\n",
    "        if not os.path.exists(output_track):\n",
    "            try:\n",
    "                os.makedirs(output_track)\n",
    "                print(f\"Directory created: {output_track}\")\n",
    "            except OSError as e:\n",
    "                print(f\"Error creating directory {output_track}: {e}\")\n",
    "        else:\n",
    "            print(f\"Directory already exists: {output_track}\")\n",
    "\n",
    "        # Change the working directory to the specified path\n",
    "        os.chdir(output_track)\n",
    "\n",
    "        # Get all files in the track directory\n",
    "        track_path = tracks_path + '/' + i\n",
    "        files = [f for f in os.listdir(track_path) if os.path.isfile(os.path.join(track_path, f))]\n",
    "\n",
    "        for j in files:\n",
    "            draw_rect(vid_path, j, 'output')\n",
    "\n",
    "    # reset working directory\n",
    "    os.chdir(current_directory)\n",
    "\n",
    "    print(files)"
   ]
  },
  {
   "cell_type": "code",
   "execution_count": 8,
   "metadata": {},
   "outputs": [
    {
     "name": "stdout",
     "output_type": "stream",
     "text": [
      "Directory already exists: C:/Users/Aaron/Desktop/uchicago-aviansolar-detect-track/data/test_set/video-00050-2019_06_27_21_23_08\n",
      "Directory created: C:/Users/Aaron/Desktop/uchicago-aviansolar-detect-track/data/test_set/video-00050-2019_06_27_21_23_08/169\n",
      "Directory created: C:/Users/Aaron/Desktop/uchicago-aviansolar-detect-track/data/test_set/video-00050-2019_06_27_21_23_08/204\n",
      "Directory created: C:/Users/Aaron/Desktop/uchicago-aviansolar-detect-track/data/test_set/video-00050-2019_06_27_21_23_08/215\n",
      "Directory created: C:/Users/Aaron/Desktop/uchicago-aviansolar-detect-track/data/test_set/video-00050-2019_06_27_21_23_08/248\n",
      "Directory created: C:/Users/Aaron/Desktop/uchicago-aviansolar-detect-track/data/test_set/video-00050-2019_06_27_21_23_08/256\n",
      "Directory created: C:/Users/Aaron/Desktop/uchicago-aviansolar-detect-track/data/test_set/video-00050-2019_06_27_21_23_08/278\n",
      "Directory created: C:/Users/Aaron/Desktop/uchicago-aviansolar-detect-track/data/test_set/video-00050-2019_06_27_21_23_08/280\n",
      "Directory created: C:/Users/Aaron/Desktop/uchicago-aviansolar-detect-track/data/test_set/video-00050-2019_06_27_21_23_08/288\n",
      "Directory created: C:/Users/Aaron/Desktop/uchicago-aviansolar-detect-track/data/test_set/video-00050-2019_06_27_21_23_08/289\n",
      "Directory created: C:/Users/Aaron/Desktop/uchicago-aviansolar-detect-track/data/test_set/video-00050-2019_06_27_21_23_08/291\n",
      "Directory created: C:/Users/Aaron/Desktop/uchicago-aviansolar-detect-track/data/test_set/video-00050-2019_06_27_21_23_08/292\n",
      "Directory created: C:/Users/Aaron/Desktop/uchicago-aviansolar-detect-track/data/test_set/video-00050-2019_06_27_21_23_08/324\n",
      "Directory created: C:/Users/Aaron/Desktop/uchicago-aviansolar-detect-track/data/test_set/video-00050-2019_06_27_21_23_08/333\n",
      "Directory created: C:/Users/Aaron/Desktop/uchicago-aviansolar-detect-track/data/test_set/video-00050-2019_06_27_21_23_08/346\n",
      "Directory created: C:/Users/Aaron/Desktop/uchicago-aviansolar-detect-track/data/test_set/video-00050-2019_06_27_21_23_08/347\n",
      "Directory created: C:/Users/Aaron/Desktop/uchicago-aviansolar-detect-track/data/test_set/video-00050-2019_06_27_21_23_08/348\n",
      "Directory created: C:/Users/Aaron/Desktop/uchicago-aviansolar-detect-track/data/test_set/video-00050-2019_06_27_21_23_08/435\n",
      "Directory created: C:/Users/Aaron/Desktop/uchicago-aviansolar-detect-track/data/test_set/video-00050-2019_06_27_21_23_08/441\n",
      "Directory created: C:/Users/Aaron/Desktop/uchicago-aviansolar-detect-track/data/test_set/video-00050-2019_06_27_21_23_08/450\n",
      "Directory created: C:/Users/Aaron/Desktop/uchicago-aviansolar-detect-track/data/test_set/video-00050-2019_06_27_21_23_08/460\n",
      "Directory created: C:/Users/Aaron/Desktop/uchicago-aviansolar-detect-track/data/test_set/video-00050-2019_06_27_21_23_08/473\n",
      "Directory created: C:/Users/Aaron/Desktop/uchicago-aviansolar-detect-track/data/test_set/video-00050-2019_06_27_21_23_08/482\n",
      "Directory created: C:/Users/Aaron/Desktop/uchicago-aviansolar-detect-track/data/test_set/video-00050-2019_06_27_21_23_08/495\n",
      "Directory created: C:/Users/Aaron/Desktop/uchicago-aviansolar-detect-track/data/test_set/video-00050-2019_06_27_21_23_08/512\n",
      "Directory created: C:/Users/Aaron/Desktop/uchicago-aviansolar-detect-track/data/test_set/video-00050-2019_06_27_21_23_08/519\n",
      "Directory created: C:/Users/Aaron/Desktop/uchicago-aviansolar-detect-track/data/test_set/video-00050-2019_06_27_21_23_08/525\n",
      "['video-00050-2019_06_27_21_23_08_v2_8899_1096_198_5.00000_236_525_1070_174_52_49.png', 'video-00050-2019_06_27_21_23_08_v2_8900_1092_201_5.00000_188_525_1067_178_51_46.png', 'video-00050-2019_06_27_21_23_08_v2_8901_1090_201_2.00000_266_525_1064_177_52_49.png', 'video-00050-2019_06_27_21_23_08_v2_8902_1090_201_0.00000_266_525_1064_177_52_49.png', 'video-00050-2019_06_27_21_23_08_v2_8903_1086_204_5.00000_262_525_1062_180_48_49.png', 'video-00050-2019_06_27_21_23_08_v2_8904_1083_205_3.16228_257_525_1058_182_50_47.png', 'video-00050-2019_06_27_21_23_08_v2_8905_1080_207_3.60555_243_525_1056_184_49_47.png', 'video-00050-2019_06_27_21_23_08_v2_8906_1077_209_3.60555_282_525_1053_184_48_50.png', 'video-00050-2019_06_27_21_23_08_v2_8907_1074_210_3.16228_348_525_1050_185_49_50.png', 'video-00050-2019_06_27_21_23_08_v2_8908_1071_211_3.16228_338_525_1046_187_50_49.png', 'video-00050-2019_06_27_21_23_08_v2_8909_1070_213_2.23607_287_525_1045_190_50_46.png', 'video-00050-2019_06_27_21_23_08_v2_8910_1064_216_6.70820_287_525_1039_193_51_46.png', 'video-00050-2019_06_27_21_23_08_v2_8911_1061_218_3.60555_320_525_1036_196_51_45.png', 'video-00050-2019_06_27_21_23_08_v2_8912_1061_218_3.60555_320_525_1036_196_51_45.png', 'video-00050-2019_06_27_21_23_08_v2_8913_1057_221_5.00000_292_525_1032_197_51_48.png', 'video-00050-2019_06_27_21_23_08_v2_8914_1056_221_1.00000_307_525_1031_198_50_46.png', 'video-00050-2019_06_27_21_23_08_v2_8915_1051_223_5.38516_304_525_1026_200_51_46.png', 'video-00050-2019_06_27_21_23_08_v2_8916_1048_225_3.60555_239_525_1023_205_50_41.png', 'video-00050-2019_06_27_21_23_08_v2_8917_1044_230_6.40312_268_525_1019_209_50_42.png', 'video-00050-2019_06_27_21_23_08_v2_8918_1042_230_2.00000_234_525_1020_210_45_40.png', 'video-00050-2019_06_27_21_23_08_v2_8919_1035_233_7.61577_250_525_1011_213_49_40.png', 'video-00050-2019_06_27_21_23_08_v2_8920_1033_234_2.23607_248_525_1010_215_46_39.png', 'video-00050-2019_06_27_21_23_08_v2_8921_1027_237_6.70820_256_525_1004_217_47_40.png', 'video-00050-2019_06_27_21_23_08_v2_8922_1022_238_5.09902_302_525_999_218_47_41.png', 'video-00050-2019_06_27_21_23_08_v2_8923_1018_241_5.00000_281_525_994_221_48_40.png', 'video-00050-2019_06_27_21_23_08_v2_8924_1013_244_5.83095_262_525_990_224_47_40.png', 'video-00050-2019_06_27_21_23_08_v2_8925_1008_247_5.83095_258_525_984_227_48_40.png', 'video-00050-2019_06_27_21_23_08_v2_8926_1004_247_4.00000_269_525_981_228_47_39.png', 'video-00050-2019_06_27_21_23_08_v2_8927_1000_249_4.47214_296_525_976_230_48_39.png', 'video-00050-2019_06_27_21_23_08_v2_8928_995_251_5.38516_290_525_971_232_48_39.png', 'video-00050-2019_06_27_21_23_08_v2_8929_990_255_6.40312_285_525_966_235_48_40.png', 'video-00050-2019_06_27_21_23_08_v2_8930_984_257_6.32456_283_525_961_237_47_41.png', 'video-00050-2019_06_27_21_23_08_v2_8931_979_260_5.83095_283_525_956_240_47_40.png', 'video-00050-2019_06_27_21_23_08_v2_8932_975_260_4.00000_278_525_952_240_47_41.png', 'video-00050-2019_06_27_21_23_08_v2_8933_970_263_5.83095_273_525_947_243_47_41.png', 'video-00050-2019_06_27_21_23_08_v2_8934_965_267_6.40312_248_525_942_248_47_38.png', 'video-00050-2019_06_27_21_23_08_v2_8935_961_269_4.47214_247_525_938_250_46_38.png', 'video-00050-2019_06_27_21_23_08_v2_8936_955_270_6.08276_266_525_932_251_47_39.png', 'video-00050-2019_06_27_21_23_08_v2_8937_948_274_8.06226_218_525_925_256_47_37.png', 'video-00050-2019_06_27_21_23_08_v2_8938_944_275_4.12311_225_525_920_257_48_37.png', 'video-00050-2019_06_27_21_23_08_v2_8939_937_278_7.61577_243_525_913_260_49_36.png', 'video-00050-2019_06_27_21_23_08_v2_8940_933_280_4.47214_201_525_910_263_46_35.png', 'video-00050-2019_06_27_21_23_08_v2_8941_928_282_5.38516_220_525_905_265_46_35.png', 'video-00050-2019_06_27_21_23_08_v2_8942_922_283_6.08276_229_525_899_266_46_35.png', 'video-00050-2019_06_27_21_23_08_v2_8943_916_286_6.70820_258_525_893_268_47_36.png', 'video-00050-2019_06_27_21_23_08_v2_8944_912_287_4.12311_273_525_887_267_50_40.png', 'video-00050-2019_06_27_21_23_08_v2_8945_906_288_6.08276_282_525_882_269_49_39.png', 'video-00050-2019_06_27_21_23_08_v2_8946_901_290_5.38516_292_525_877_270_49_40.png', 'video-00050-2019_06_27_21_23_08_v2_8947_896_292_5.38516_263_525_872_272_48_40.png', 'video-00050-2019_06_27_21_23_08_v2_8948_890_294_6.32456_252_525_866_276_48_36.png', 'video-00050-2019_06_27_21_23_08_v2_8949_885_294_5.00000_228_525_861_276_48_37.png', 'video-00050-2019_06_27_21_23_08_v2_8950_878_295_7.07107_254_525_853_277_50_36.png', 'video-00050-2019_06_27_21_23_08_v2_8951_873_297_5.38516_265_525_848_279_50_36.png', 'video-00050-2019_06_27_21_23_08_v2_8952_866_298_7.07107_229_525_843_280_46_36.png', 'video-00050-2019_06_27_21_23_08_v2_8953_860_300_6.32456_222_525_837_282_46_36.png', 'video-00050-2019_06_27_21_23_08_v2_8954_854_299_6.08276_199_525_833_282_43_35.png', 'video-00050-2019_06_27_21_23_08_v2_8955_849_301_5.38516_204_525_827_283_45_36.png', 'video-00050-2019_06_27_21_23_08_v2_8956_845_302_4.12311_252_525_821_283_48_38.png', 'video-00050-2019_06_27_21_23_08_v2_8957_839_302_6.00000_258_525_815_284_48_36.png', 'video-00050-2019_06_27_21_23_08_v2_8958_834_303_5.09902_240_525_810_284_48_38.png', 'video-00050-2019_06_27_21_23_08_v2_8959_828_302_6.08276_277_525_805_283_47_39.png', 'video-00050-2019_06_27_21_23_08_v2_8960_823_304_5.38516_270_525_799_284_48_40.png', 'video-00050-2019_06_27_21_23_08_v2_8961_820_305_3.16228_286_525_796_285_48_40.png', 'video-00050-2019_06_27_21_23_08_v2_8962_813_304_7.07107_281_525_789_284_48_41.png', 'video-00050-2019_06_27_21_23_08_v2_8963_808_304_5.00000_253_525_785_285_47_39.png', 'video-00050-2019_06_27_21_23_08_v2_8964_802_305_6.08276_251_525_779_286_46_39.png', 'video-00050-2019_06_27_21_23_08_v2_8965_796_306_6.08276_243_525_774_287_44_38.png', 'video-00050-2019_06_27_21_23_08_v2_8966_789_306_7.00000_229_525_766_289_47_35.png', 'video-00050-2019_06_27_21_23_08_v2_8967_785_306_4.00000_250_525_761_288_48_37.png', 'video-00050-2019_06_27_21_23_08_v2_8968_779_308_6.32456_217_525_755_290_48_36.png', 'video-00050-2019_06_27_21_23_08_v2_8969_774_306_5.38516_230_525_750_288_48_37.png', 'video-00050-2019_06_27_21_23_08_v2_8970_768_306_6.00000_273_525_744_288_49_37.png', 'video-00050-2019_06_27_21_23_08_v2_8971_763_307_5.09902_253_525_739_289_49_37.png', 'video-00050-2019_06_27_21_23_08_v2_8972_760_307_3.00000_232_525_736_289_48_37.png', 'video-00050-2019_06_27_21_23_08_v2_8973_753_307_7.00000_264_525_729_289_49_37.png', 'video-00050-2019_06_27_21_23_08_v2_8974_748_306_5.09902_282_525_725_287_47_39.png', 'video-00050-2019_06_27_21_23_08_v2_8975_743_308_5.38516_228_525_719_290_48_36.png', 'video-00050-2019_06_27_21_23_08_v2_8976_737_307_6.08276_231_525_713_289_49_37.png', 'video-00050-2019_06_27_21_23_08_v2_8977_732_308_5.09902_208_525_708_289_48_38.png', 'video-00050-2019_06_27_21_23_08_v2_8978_727_306_5.38516_190_525_703_288_48_37.png', 'video-00050-2019_06_27_21_23_08_v2_8979_721_307_6.08276_183_525_698_288_46_39.png', 'video-00050-2019_06_27_21_23_08_v2_8980_713_307_8.00000_157_525_693_288_41_38.png', 'video-00050-2019_06_27_21_23_08_v2_8981_708_306_5.09902_172_525_685_287_47_39.png', 'video-00050-2019_06_27_21_23_08_v2_8982_703_306_5.00000_154_525_683_287_41_38.png', 'video-00050-2019_06_27_21_23_08_v2_8983_700_305_3.16228_151_525_679_286_42_39.png', 'video-00050-2019_06_27_21_23_08_v2_8984_694_304_5.76641_151_525_679_286_42_39.png', 'video-00050-2019_06_27_21_23_08_v2_8985_689_304_4.83198_151_525_679_286_42_39.png', 'video-00050-2019_06_27_21_23_08_v2_8986_684_305_5.48891_179_525_660_286_48_38.png']\n"
     ]
    }
   ],
   "source": [
    "vid_path = 'C:/Users/Aaron/Desktop/uchicago-aviansolar-detect-track/data/test_set_videos/video-00050-2019_06_27_21_23_08.mkv' # path of video\n",
    "tracks_path ='C:/Users/Aaron/Desktop/uchicago-aviansolar-detect-track/data/test_set/video-00050-2019_06_27_21_23_08/video-00050-2019_06_27_21_23_08' # root path of generated tracks\n",
    "output_dir = 'C:/Users/Aaron/Desktop/uchicago-aviansolar-detect-track/data/test_set/video-00050-2019_06_27_21_23_08' # where you want bounding box images to be output\n",
    "draw_rect_track(vid_path, tracks_path, output_dir) "
   ]
  },
  {
   "cell_type": "code",
   "execution_count": 11,
   "metadata": {},
   "outputs": [
    {
     "name": "stdout",
     "output_type": "stream",
     "text": [
      "Directory created: /Users/Aaron/Desktop/uchicago-aviansolar-detect-track/custom/images/video-00030-2019_06_26_13_41_08\n",
      "Directory created: /Users/Aaron/Desktop/uchicago-aviansolar-detect-track/custom/images/video-00030-2019_06_26_13_41_08/121\n",
      "Directory created: /Users/Aaron/Desktop/uchicago-aviansolar-detect-track/custom/images/video-00030-2019_06_26_13_41_08/125\n",
      "Directory created: /Users/Aaron/Desktop/uchicago-aviansolar-detect-track/custom/images/video-00030-2019_06_26_13_41_08/128\n",
      "Directory created: /Users/Aaron/Desktop/uchicago-aviansolar-detect-track/custom/images/video-00030-2019_06_26_13_41_08/137\n",
      "Directory created: /Users/Aaron/Desktop/uchicago-aviansolar-detect-track/custom/images/video-00030-2019_06_26_13_41_08/160\n",
      "Directory created: /Users/Aaron/Desktop/uchicago-aviansolar-detect-track/custom/images/video-00030-2019_06_26_13_41_08/169\n",
      "Directory created: /Users/Aaron/Desktop/uchicago-aviansolar-detect-track/custom/images/video-00030-2019_06_26_13_41_08/190\n",
      "Directory created: /Users/Aaron/Desktop/uchicago-aviansolar-detect-track/custom/images/video-00030-2019_06_26_13_41_08/209\n",
      "Directory created: /Users/Aaron/Desktop/uchicago-aviansolar-detect-track/custom/images/video-00030-2019_06_26_13_41_08/297\n",
      "Directory created: /Users/Aaron/Desktop/uchicago-aviansolar-detect-track/custom/images/video-00030-2019_06_26_13_41_08/301\n",
      "Directory created: /Users/Aaron/Desktop/uchicago-aviansolar-detect-track/custom/images/video-00030-2019_06_26_13_41_08/346\n",
      "Directory created: /Users/Aaron/Desktop/uchicago-aviansolar-detect-track/custom/images/video-00030-2019_06_26_13_41_08/347\n",
      "Directory created: /Users/Aaron/Desktop/uchicago-aviansolar-detect-track/custom/images/video-00030-2019_06_26_13_41_08/348\n",
      "Directory created: /Users/Aaron/Desktop/uchicago-aviansolar-detect-track/custom/images/video-00030-2019_06_26_13_41_08/407\n",
      "Directory created: /Users/Aaron/Desktop/uchicago-aviansolar-detect-track/custom/images/video-00030-2019_06_26_13_41_08/414\n",
      "Directory created: /Users/Aaron/Desktop/uchicago-aviansolar-detect-track/custom/images/video-00030-2019_06_26_13_41_08/458\n",
      "Directory created: /Users/Aaron/Desktop/uchicago-aviansolar-detect-track/custom/images/video-00030-2019_06_26_13_41_08/464\n",
      "Directory created: /Users/Aaron/Desktop/uchicago-aviansolar-detect-track/custom/images/video-00030-2019_06_26_13_41_08/528\n",
      "Directory created: /Users/Aaron/Desktop/uchicago-aviansolar-detect-track/custom/images/video-00030-2019_06_26_13_41_08/540\n",
      "['video-00030-2019_06_26_13_41_08_v2_8945_2489_1449_0.00000_273_540_2468_1430_42_38.png', 'video-00030-2019_06_26_13_41_08_v2_8946_2489_1449_0.00000_273_540_2468_1430_42_38.png', 'video-00030-2019_06_26_13_41_08_v2_8947_2614_1432_126.15070_265_540_2593_1414_43_37.png', 'video-00030-2019_06_26_13_41_08_v2_8948_2674_1419_61.39218_270_540_2652_1401_44_36.png', 'video-00030-2019_06_26_13_41_08_v2_8949_2737_1414_63.19810_285_540_2716_1395_43_38.png', 'video-00030-2019_06_26_13_41_08_v2_8950_2798_1400_62.58594_201_540_2777_1383_42_34.png', 'video-00030-2019_06_26_13_41_08_v2_8951_2857_1384_61.13101_284_540_2836_1366_43_37.png', 'video-00030-2019_06_26_13_41_08_v2_8952_2921_1379_64.19502_292_540_2900_1361_43_37.png', 'video-00030-2019_06_26_13_41_08_v2_8953_2980_1366_60.41523_318_540_2958_1348_45_37.png', 'video-00030-2019_06_26_13_41_08_v2_8954_3040_1360_60.29925_175_540_3020_1343_40_34.png', 'video-00030-2019_06_26_13_41_08_v2_8955_3099_1356_59.13544_272_540_3077_1338_45_36.png', 'video-00030-2019_06_26_13_41_08_v2_8956_3159_1338_62.64184_265_540_3138_1320_42_37.png', 'video-00030-2019_06_26_13_41_08_v2_8957_3222_1334_63.12686_219_540_3202_1316_41_36.png', 'video-00030-2019_06_26_13_41_08_v2_8958_3285_1320_64.53681_151_540_3266_1304_38_33.png', 'video-00030-2019_06_26_13_41_08_v2_8959_3345_1311_61.38761_151_540_3266_1304_38_33.png', 'video-00030-2019_06_26_13_41_08_v2_8960_3407_1300_62.51111_151_540_3266_1304_38_33.png', 'video-00030-2019_06_26_13_41_08_v2_8961_3469_1290_62.51111_151_540_3266_1304_38_33.png', 'video-00030-2019_06_26_13_41_08_v2_8962_3530_1280_62.51111_151_540_3266_1304_38_33.png', 'video-00030-2019_06_26_13_41_08_v2_8963_3592_1270_62.51111_151_540_3266_1304_38_33.png', 'video-00030-2019_06_26_13_41_08_v2_8964_3682_1208_109.17126_325_540_3659_1189_46_38.png', 'video-00030-2019_06_26_13_41_08_v2_8965_3749_1206_67.02984_181_540_3728_1190_42_32.png']\n"
     ]
    }
   ],
   "source": [
    "vid_path = '/Users/Aaron/Desktop/uchicago-aviansolar-detect-track/data/video-00030-2019_06_26_13_41_08.mkv' # path of video\n",
    "tracks_path ='/Users/Aaron/Desktop/uchicago-aviansolar-detect-track/data/video-00030-2019_06_26_13_41_08/video-00030-2019_06_26_13_41_08/' # root path of generated tracks\n",
    "output_dir = '/Users/Aaron/Desktop/uchicago-aviansolar-detect-track/custom/images/video-00030-2019_06_26_13_41_08' # where you want bounding box images to be output\n",
    "draw_rect_track(vid_path, tracks_path, output_dir) "
   ]
  },
  {
   "cell_type": "code",
   "execution_count": 8,
   "metadata": {},
   "outputs": [
    {
     "data": {
      "text/plain": [
       "8970"
      ]
     },
     "execution_count": 8,
     "metadata": {},
     "output_type": "execute_result"
    }
   ],
   "source": [
    "count_frames(video_path=vid_path)"
   ]
  }
 ],
 "metadata": {
  "kernelspec": {
   "display_name": "capstone",
   "language": "python",
   "name": "python3"
  },
  "language_info": {
   "codemirror_mode": {
    "name": "ipython",
    "version": 3
   },
   "file_extension": ".py",
   "mimetype": "text/x-python",
   "name": "python",
   "nbconvert_exporter": "python",
   "pygments_lexer": "ipython3",
   "version": "3.10.13"
  }
 },
 "nbformat": 4,
 "nbformat_minor": 2
}
