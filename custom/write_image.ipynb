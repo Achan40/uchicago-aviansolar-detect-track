{
 "cells": [
  {
   "cell_type": "code",
   "execution_count": 150,
   "metadata": {},
   "outputs": [],
   "source": [
    "import cv2\n",
    "import re"
   ]
  },
  {
   "cell_type": "code",
   "execution_count": 151,
   "metadata": {},
   "outputs": [],
   "source": [
    "def extract_info_from_name(img_file_name):\n",
    "    # Extract numeric values using regular expression, last two represent width and height\n",
    "    numeric_values = [int(match) for match in re.findall(r'\\d+', img_file_name)]\n",
    "    return numeric_values"
   ]
  },
  {
   "cell_type": "code",
   "execution_count": 152,
   "metadata": {},
   "outputs": [],
   "source": [
    "def draw_rect(vid_path: str,\n",
    "              image_path: str,\n",
    "              image_name: str):\n",
    "    '''\n",
    "    Function for generating an output on a frame in cv2\n",
    "    '''\n",
    "    # read the video\n",
    "    cap = cv2.VideoCapture(vid_path) \n",
    "    \n",
    "    # draw rectangle given image\n",
    "    vals = extract_info_from_name(image_name)\n",
    "    frm=5466\n",
    "\n",
    "    # Set the frame position (0-based index) of the frame you want to read\n",
    "    # Set the frame position using the set method\n",
    "    cap.set(cv2.CAP_PROP_POS_FRAMES, frm)\n",
    "\n",
    "    # read the first frame\n",
    "    ret, frame = cap.read()\n",
    "\n",
    "    # Define the coordinates and color for the rectangle\n",
    "    x, y, width, height = 2261, 482, vals[11], vals[12]  # Rectangle position and size\n",
    "\n",
    "    top_left = (int(x - width / 2), int(y - height / 2))\n",
    "    bottom_right = (int(x + width / 2), int(y + height / 2))\n",
    "\n",
    "\n",
    "    color = (0, 255, 0)  # Green color in BGR format\n",
    "    thickness = 2\n",
    "\n",
    "    # Draw a rectangle on the frame, use converted coord\n",
    "    cv2.rectangle(frame, top_left, bottom_right, color, thickness)\n",
    "\n",
    "    # Draw the circle on the image center\n",
    "    cv2.circle(frame, (x,y), 15, color, thickness)\n",
    "\n",
    "    # Save the modified frame as an image\n",
    "    cv2.imwrite('output_frame.jpg', frame)\n",
    "\n",
    "    # Release the video capture object\n",
    "    cap.release()\n",
    "\n",
    "    # Close any OpenCV windows\n",
    "    cv2.destroyAllWindows()"
   ]
  },
  {
   "cell_type": "code",
   "execution_count": 153,
   "metadata": {},
   "outputs": [],
   "source": [
    "vid_path = '/Users/Aaron/Desktop/uchicago-aviansolar-detect-track/data/video-00002-2020_04_26_11_57_51.mkv'\n",
    "image_path = '/Users/Aaron/Desktop/uchicago-aviansolar-detect-track/data/video-00002-2020_04_26_11_57_51/video-00002-2020_04_26_11_57_51/306/video-00002-2020_04_26_11_57_51_v2_5466_2261_482_30.06659_257_306_2240_464_43_36.png'\n",
    "image_name = 'video-00002-2020_04_26_11_57_51_v2_5466_2261_482_30.06659_257_306_2240_464_43_36.png'\n",
    "draw_rect(vid_path, image_path, image_name)"
   ]
  }
 ],
 "metadata": {
  "kernelspec": {
   "display_name": "capstone",
   "language": "python",
   "name": "python3"
  },
  "language_info": {
   "codemirror_mode": {
    "name": "ipython",
    "version": 3
   },
   "file_extension": ".py",
   "mimetype": "text/x-python",
   "name": "python",
   "nbconvert_exporter": "python",
   "pygments_lexer": "ipython3",
   "version": "3.10.13"
  }
 },
 "nbformat": 4,
 "nbformat_minor": 2
}
